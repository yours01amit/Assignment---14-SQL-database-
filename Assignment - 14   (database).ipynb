{
 "cells": [
  {
   "cell_type": "markdown",
   "id": "b0045ce2",
   "metadata": {},
   "source": [
    "Que1. What is a database? Differentiate between SQL and NoSQL databases.\n",
    "\n",
    "Ans: A database is an organized collection of structured information, or data, typically stored electronically in a computer system. A database is usually controlled by a database management system (DBMS). Together, the data and the DBMS, along with the applications that are associated with them, are referred to as a database system, often shortened to just database.\n",
    "\n",
    "Data within the most common types of databases in operation today is typically modeled in rows and columns in a series of tables to make processing and data querying efficient. The data can then be easily accessed, managed, modified, updated, controlled, and organized.\n",
    "\n",
    "\n",
    "Some of the key differences between SQL and NoSQL databases are:\n",
    "\n",
    "Data model: SQL databases use the relational model, while NoSQL databases use various non-relational data models, such as key-value, document, or graph models.\n",
    "\n",
    "Schema: SQL databases have a fixed schema that defines the structure of the data, while NoSQL databases often have a flexible schema that can evolve as the data changes.\n",
    "\n",
    "Scalability: SQL databases are typically vertically scalable, meaning that they can handle larger amounts of data by adding more processing power, while NoSQL databases are horizontally scalable, meaning that they can handle larger amounts of data by adding more nodes to the cluster.\n",
    "\n",
    "Transactions: SQL databases provide ACID (Atomicity, Consistency, Isolation, Durability) transactions, which guarantee the consistency of the data, while NoSQL databases often provide eventual consistency, which may result in temporary inconsistencies in the data."
   ]
  },
  {
   "cell_type": "markdown",
   "id": "b54c2556",
   "metadata": {},
   "source": [
    "Que2. What is DDL? Explain why CREATE, DROP, ALTER, and TRUNCATE are used with an example.\n",
    "\n",
    "Ans: DDL stands for Data Definition Language. It is a set of SQL commands that are used to define the database schema, create and modify database objects such as tables, views, indexes, and constraints.\n",
    "\n",
    "Here are some of the commonly used DDL commands and their examples:\n",
    "\n",
    "1.CREATE: The CREATE command is used to create a new database object such as a table, view, or index.\n",
    "\n",
    "Example: To create a new table named \"employees\" with columns such as \"id\", \"name\", \"age\", \"salary\", and \"department\", you can use the following SQL command:\n"
   ]
  },
  {
   "cell_type": "code",
   "execution_count": null,
   "id": "6ac1ccfd",
   "metadata": {},
   "outputs": [],
   "source": [
    "CREATE TABLE employees (\n",
    "    id INT PRIMARY KEY,\n",
    "    name VARCHAR(50),\n",
    "    age INT,\n",
    "    salary FLOAT,\n",
    "    department VARCHAR(50)\n",
    ");"
   ]
  },
  {
   "cell_type": "markdown",
   "id": "7257042c",
   "metadata": {},
   "source": [
    "2.DROP: The DROP command is used to delete a database object such as a table or index.\n",
    "\n",
    "Example: To delete the \"employees\" table created earlier, you can use the following SQL command:"
   ]
  },
  {
   "cell_type": "code",
   "execution_count": null,
   "id": "4182dae0",
   "metadata": {},
   "outputs": [],
   "source": [
    "DROP TABLE employees;"
   ]
  },
  {
   "cell_type": "markdown",
   "id": "5aed56d9",
   "metadata": {},
   "source": [
    "3.ALTER: The ALTER command is used to modify the structure of an existing database object such as a table, view, or index.\n",
    "\n",
    "Example: To add a new column named \"email\" to the \"employees\" table, you can use the following SQL command:"
   ]
  },
  {
   "cell_type": "code",
   "execution_count": null,
   "id": "458d9d1a",
   "metadata": {},
   "outputs": [],
   "source": [
    "ALTER TABLE employees ADD COLUMN email VARCHAR(50);"
   ]
  },
  {
   "cell_type": "markdown",
   "id": "ae7a0725",
   "metadata": {},
   "source": [
    "TRUNCATE: The TRUNCATE command is used to delete all the data from a table without deleting the table structure.\n",
    "\n",
    "Example: To delete all the data from the \"employees\" table created earlier, you can use the following SQL command:"
   ]
  },
  {
   "cell_type": "code",
   "execution_count": null,
   "id": "41be1f86",
   "metadata": {},
   "outputs": [],
   "source": [
    "TRUNCATE TABLE employees;"
   ]
  },
  {
   "cell_type": "markdown",
   "id": "8059e75e",
   "metadata": {},
   "source": [
    "These DDL commands are essential in creating, modifying, and deleting database objects, and they allow users to define the database schema and manage the data in the database efficiently."
   ]
  },
  {
   "cell_type": "markdown",
   "id": "3bb5a65c",
   "metadata": {},
   "source": [
    "Que3. What is DML? Explain INSERT, UPDATE, and DELETE with an example.  \n",
    "\n",
    "Ans: DML stands for (Data Manipulation Language). It is a subset of SQL that are used to manipulate        the data stored in a database. The three most commonly used DML commands are INSERT, UPDATE,          DELETE.\n",
    "\n",
    "Here are examples of how each command works:\n",
    "\n",
    "1 INSERT: The INSERT command is used to add new data into a table.\n",
    "\n",
    "Example: To add a new record to the \"employees\" table with the following values: "
   ]
  },
  {
   "cell_type": "code",
   "execution_count": null,
   "id": "a9467b90",
   "metadata": {},
   "outputs": [],
   "source": [
    "id = 1\n",
    "name = \"Amit kumar\"\n",
    "age = 30 \n",
    "salary = 50000.00\n",
    "department = \"IT\"\n",
    "\n",
    "# Use can use the following SQL command:\n",
    "\n",
    "INSERT INTO employee(id, name, age, salary, department)\n",
    "VALUES(1, 'AMIT KUMAR', 30, 50000, 'IT');"
   ]
  },
  {
   "cell_type": "markdown",
   "id": "d636ed75",
   "metadata": {},
   "source": [
    "2.UPDATE: The UPDATE command is used to modify existing data in a table.\n",
    "\n",
    "Example: To update the salary of the employee with id = 1 to 60000.00, you can use the following SLQ            command:"
   ]
  },
  {
   "cell_type": "code",
   "execution_count": null,
   "id": "46858da8",
   "metadata": {},
   "outputs": [],
   "source": [
    "UPDATE employee  SET salary = 60000.00 WHERE id = 1;"
   ]
  },
  {
   "cell_type": "markdown",
   "id": "af028774",
   "metadata": {},
   "source": [
    "3.DELETE:The DELETE command is used to remove data from a table.\n",
    "\n",
    "Example:To delete the record of the employee with id = 1, you can use the following SQL command:"
   ]
  },
  {
   "cell_type": "code",
   "execution_count": null,
   "id": "6ffbe26d",
   "metadata": {},
   "outputs": [],
   "source": [
    "DELETE FROM employee WHERE id = 1;"
   ]
  },
  {
   "cell_type": "markdown",
   "id": "07d16053",
   "metadata": {},
   "source": [
    "Q4. What is DQL? Explain SELECT with an example.\n",
    "\n",
    "Ans: DQL stands for Data Query Language. It is a subset of SQL (Structured Query Language) used to retrieve data from a database. SELECT is the most commonly used DQL command in SQL.\n",
    "\n",
    "The SELECT statement in SQL is used to retrieve data from one or more tables in a database. It allows you to specify which columns you want to retrieve, as well as any conditions that must be met in order for the data to be included in the result set.\n",
    "\n",
    "Here is an example of a SELECT statement:\n",
    "\n",
    "Suppose we have a table called \"employees\" with columns \"id\", \"name\", \"department\", and \"salary\". We want to retrieve the name and salary of all employees who work in the \"Sales\" department and have a salary greater than 50000.\n",
    "\n",
    "The SQL query to achieve this would be:"
   ]
  },
  {
   "cell_type": "code",
   "execution_count": null,
   "id": "39f07f09",
   "metadata": {},
   "outputs": [],
   "source": [
    "SELECT name, salary\n",
    "FROM employees\n",
    "WHERE department = 'sales' AND salary > 50000;"
   ]
  },
  {
   "cell_type": "markdown",
   "id": "93fbbf12",
   "metadata": {},
   "source": [
    "This query would return a result set of all employees who meet the specified criteria, with their names and salaries listed. The WHERE clause is used to filter the results based on the specified conditions. The SELECT statement allows us to specify which columns we want to retrieve from the \"employees\" table."
   ]
  },
  {
   "cell_type": "markdown",
   "id": "05404ef4",
   "metadata": {},
   "source": [
    "Q5. Explain Primary Key and Foreign Key.\n",
    "\n",
    "Ans: In a relational database, a Primary Key and a Foreign Key are two important concepts that help to establish relationships between tables.\n",
    "\n",
    "A Primary Key: A Primary Key is a column or set of columns in a table that uniquely identifies each                  row of data in that table. It is used to ensure data integrity and to facilitate the                  linking of data between tables. A Primary Key column must have a unique value for each                row in the table, and it cannot contain null values.\n",
    "\n",
    "For example: in a table of students, the StudentID column could be designated as the Primary Key. This means that each row in the table represents a unique student, and the StudentID column will contain a unique value for each student.\n",
    "\n",
    "A Foreign Key: A Foreign Key is a column or set of columns in a table that refers to the Primary Key                  of another table. It is used to establish relationships between tables, allowing data                  to be linked and queried across multiple tables.\n",
    "\n",
    "For example: in a table of student grades, the StudentID column could be designated as a Foreign Key. This means that the StudentID column in the grades table refers to the StudentID column in the students table. By doing so, we can retrieve data from both tables in a single query, such as retrieving a student's name and their grades.\n",
    "\n",
    "In summary, a Primary Key uniquely identifies each row of data in a table, while a Foreign Key establishes relationships between tables by referring to the Primary Key of another table. Together, they help to ensure data integrity and facilitate the querying of data across multiple tables."
   ]
  },
  {
   "cell_type": "markdown",
   "id": "60f912a7",
   "metadata": {},
   "source": [
    "Q6. Write a python code to connect MySQL to python. Explain the cursor() and execute() method."
   ]
  },
  {
   "cell_type": "code",
   "execution_count": null,
   "id": "e4e20504",
   "metadata": {},
   "outputs": [],
   "source": [
    "import mysql.connector\n",
    "mydb = mysql.connector.connect(\n",
    "  host=\"localhost\",\n",
    "  user=\"root\",\n",
    "  password=\"password@1234\",\n",
    "  database = \"amitdb1\"\n",
    ")\n",
    "\n",
    "cur  = mydb.cursor()\n",
    "s = \"CREATE TABLE book(book_id INTEGER(4), title VARCHAR(50), price FLOAT(3,2) )\"\n",
    "cur.execute(s)"
   ]
  },
  {
   "cell_type": "markdown",
   "id": "c5312b7c",
   "metadata": {},
   "source": [
    "we create a cursor object using the cursor() method of the database connection. A cursor is an object that allows us to execute SQL queries and fetch results.\n",
    "\n",
    "We then use the execute() method of the cursor object to execute an SQL query.\n",
    "\n",
    "In layman terms,\n",
    "The cursor() method creates a cursor object that allows us to execute SQL queries and fetch results.\n",
    "The execute() method executes an SQL query using the cursor object."
   ]
  },
  {
   "cell_type": "markdown",
   "id": "985fd8ea",
   "metadata": {},
   "source": [
    "Q7. Give the order of execution of SQL clauses in an SQL query.\n",
    "\n",
    "Ans:The order of execution of SQL clauses in an SQL query is as follows:\n",
    "\n",
    "FROM clause: This clause identifies the table or tables from which the data will be retrieved.\n",
    "\n",
    "WHERE clause: This clause specifies the conditions that must be met for a row to be included in the                 query results.\n",
    "\n",
    "GROUP BY clause: This clause is used to group the query results based on one or more columns.\n",
    "\n",
    "HAVING clause: This clause specifies the conditions that must be met by groups for them to be included                in the query results.\n",
    "\n",
    "SELECT clause: This clause selects the columns that will be included in the query results.\n",
    "\n",
    "ORDER BY clause: This clause is used to sort the query results based on one or more columns.\n",
    "\n",
    "LIMIT clause: This clause specifies the maximum number of rows to be included in the query results.\n",
    "\n",
    "Note that not all SQL queries will include all of these clauses, and they may be executed in a different order depending on the specifics of the query. However, this is the typical order in which SQL clauses are executed in a query that includes all of these clauses"
   ]
  }
 ],
 "metadata": {
  "kernelspec": {
   "display_name": "Python 3 (ipykernel)",
   "language": "python",
   "name": "python3"
  },
  "language_info": {
   "codemirror_mode": {
    "name": "ipython",
    "version": 3
   },
   "file_extension": ".py",
   "mimetype": "text/x-python",
   "name": "python",
   "nbconvert_exporter": "python",
   "pygments_lexer": "ipython3",
   "version": "3.11.0"
  }
 },
 "nbformat": 4,
 "nbformat_minor": 5
}
